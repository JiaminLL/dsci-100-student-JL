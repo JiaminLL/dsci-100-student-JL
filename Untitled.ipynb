{
 "cells": [
  {
   "cell_type": "markdown",
   "id": "a19f8e50-d7d1-4ab3-9dc9-06ea769986c6",
   "metadata": {},
   "source": [
    "# Tittle\n",
    "\n",
    "# Introduction\n",
    "\n",
    "# Methods & Results\n",
    "\n",
    "# Discussion\n",
    "\n",
    "# References\n",
    "\n",
    "# Question:\n",
    " What player characteristics and behaviours are most predictive of subscribing to a game-related newsletter, and how do these features differ between various player types?"
   ]
  },
  {
   "cell_type": "code",
   "execution_count": null,
   "id": "08176526-3ea4-4d35-a99b-9232f4e4d3ad",
   "metadata": {},
   "outputs": [],
   "source": []
  }
 ],
 "metadata": {
  "kernelspec": {
   "display_name": "R",
   "language": "R",
   "name": "ir"
  },
  "language_info": {
   "codemirror_mode": "r",
   "file_extension": ".r",
   "mimetype": "text/x-r-source",
   "name": "R",
   "pygments_lexer": "r",
   "version": "4.3.3"
  }
 },
 "nbformat": 4,
 "nbformat_minor": 5
}
