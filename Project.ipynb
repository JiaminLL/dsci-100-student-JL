{
 "cells": [
  {
   "cell_type": "markdown",
   "id": "a19f8e50-d7d1-4ab3-9dc9-06ea769986c6",
   "metadata": {},
   "source": [
    "# Predicting Whether or Not Players Subscribe to a Game-Related Newsletter Using Age and Played Hours"
   ]
  },
  {
   "cell_type": "markdown",
   "id": "652fba39-f86e-49c7-bf55-7b681c7ae69f",
   "metadata": {},
   "source": [
    "**Introduction:**\n",
    "\n",
    "* Background:\n",
    "  \n",
    "    In video game research, understanding how players interact with a gaming platform is essential for optimizing user experience and system management. The UBC MineCraft Server collects player activity data to explore behavioral characteristics across different player types. When players subscribe to a game-related newsletter, it often indicates a desire to stay informed about server updates, research developments, or community events—reflecting a higher level of engagement. Therefore, identifying player groups that are more likely to subscribe can improve both the quality of research samples and the efficiency of resource management. This study examines whether two variables—age and played hours—can effectively predict a player's likelihood of subscribing to the newsletter.\n",
    "\n",
    "* Question:\n",
    "\n",
    "    In the UBC MineCraft Server, can a player's age and total number of hours played be used to predict whether the player will subscribe to a game-related newsletter?\n",
    "\n",
    "  \n",
    "* Data Description:\n",
    "    * Overview Description of Data:\n",
    "\n",
    "        * This dataset comes from the UBC MineCraft Server, which is used to record all player behaviors as they navigate the virtual world.\n",
    "\n",
    "    * Number of Observations:\n",
    " \n",
    "        * The dataset contains 196 observations (players) and 7 variables.\n",
    "     \n",
    "    * Summary of Variables:\n",
    "     \n",
    "        * experience: The player's experience type. (Type: Categorical)\n",
    "     \n",
    "        * subscribe: Whether the player subscribed to the game-related newsletter. (Type: Boolean)\n",
    "     \n",
    "        * hashedEmail: An anonymized identifier used to protect player privacy. (Type: Categorical)\n",
    "          \n",
    "        * played_hours: Total hours the player has spent on the MineCraft server. (Type: Numeric)\n",
    "     \n",
    "        * name: Player’s display name in MineCraft server. (Type: Categorical)\n",
    "     \n",
    "        * gender: Player's gender. (Type: Categorical)\n",
    "     \n",
    "        * Age: Player's age. (Type: Numeric)\n",
    "     \n",
    "    * Data Issues\n",
    "\n",
    "        * Age contains 2 missing values.\n",
    "\n",
    "        * Self-reported values like Age and gender may be inaccurate.\n",
    "\n",
    "        * Email-based data may carry selection bias—only players who provided emails could subscribe.\n",
    "\n",
    "        * External factors influencing newsletter subscription (e.g., promotion timing) are not captured in this dataset.\n",
    "\n",
    "    * Collection Method:\n",
    "\n",
    "        * Data were automatically recorded by the server when players registered and played, and when they subscribed to the newsletter.\n"
   ]
  },
  {
   "cell_type": "code",
   "execution_count": null,
   "id": "34648b62-96da-4bbc-aa27-38c087e3f4ff",
   "metadata": {},
   "outputs": [],
   "source": []
  }
 ],
 "metadata": {
  "kernelspec": {
   "display_name": "R",
   "language": "R",
   "name": "ir"
  },
  "language_info": {
   "codemirror_mode": "r",
   "file_extension": ".r",
   "mimetype": "text/x-r-source",
   "name": "R",
   "pygments_lexer": "r",
   "version": "4.3.3"
  }
 },
 "nbformat": 4,
 "nbformat_minor": 5
}
